import pandas as pd
import json
from pathlib import Path
import copy
import matplotlib.pyplot as plt
%config InlineBackend.figure_format = 'retina'
results = {f.stem: json.loads(f.read_text()) for f in Path("outputs").glob("*.json")}


def process_log(log:list):
    for record in log:
        if 'action_type' not in record:
            continue
        
        # 去除接收握手和end的消息
        if record['action_type'] == 'recv':
            if 'result' not in record['data']:
                continue
            
            # 提取结果信息
            record['slice_type'] = record['data']['result']['slice_type']
            record['start_time'] = record['data']['result']['start_time']
            record['end_time'] = record['data']['result']['end_time']
            record['voice_text_str'] = record['data']['result']['voice_text_str']
        
        # 删除多余字段
        if 'data' in record:
            del record['data']
            
        # 计算相对时间（相对于当前第一个音频段开始前的信息）
        if 'timestamp' in record:
            record['relative_time']=  (float(record['timestamp']) - float(log[0]['timestamp'])) * 1000
        
        # 计算发送延迟  
        if record['action_type'] == 'sent':
            record['expected_time'] = float(record['chunk_index']) * 40
            record['send_latency'] = float(record['relative_time']) - record['expected_time']
    return pd.DataFrame(log)

def process_logs(logs:dict):
    logs = copy.deepcopy(logs)
    dfs = []
    for k,v in logs.items():
        df = process_log(v)
        df['iid'] = k
        dfs.append(df)
    return dfs


dfs = process_logs(results)


concat_df = pd.concat(dfs)





log_summary = pd.DataFrame(concat_df.groupby(["iid",'action_type','slice_type'], dropna=False).size()).reset_index()
log_summary.columns = ['iid','action_type','slice_type','count']
log_summary





pd.set_option("display.max_rows", 500)
concat_df[concat_df.action_type=='sent'].tail(5)


pd.DataFrame(pd.DataFrame.describe(concat_df[concat_df.action_type=='sent']['send_latency']).T)


import numpy as np
send_p99 = np.percentile(concat_df[concat_df.action_type=='sent']['send_latency'], 99)
print(f"Send latency p99: {send_p99:.2f} ms")








concat_df[(concat_df.action_type=='recv') & (concat_df.slice_type==1)].head(10)





concat_df[(concat_df.action_type=='recv') & (concat_df.slice_type==2)].head(10)








partial_results = concat_df[(concat_df.action_type=='recv') & (concat_df.slice_type==1)].copy()
partial_results['partial_latency'] = partial_results['relative_time'] - partial_results['end_time']
partial_results['partial_latency'].describe().T





stable_results = concat_df[(concat_df.action_type=='recv') & (concat_df.slice_type==2)].copy()
stable_results['partial_latency'] = stable_results['relative_time'] - stable_results['end_time']
stable_results['partial_latency'].describe().T


stable_results['partial_latency'].hist(bins = 40, label = 'stable')
partial_results['partial_latency'].hist(bins = 40, label = 'partial')
plt.legend(loc = 'upper left')
plt.show()








450 + 350 + 500 + 500


concat_df



